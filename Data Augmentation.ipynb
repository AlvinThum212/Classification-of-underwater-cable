{
 "cells": [
  {
   "cell_type": "code",
   "execution_count": 1,
   "metadata": {},
   "outputs": [
    {
     "name": "stderr",
     "output_type": "stream",
     "text": [
      "Using TensorFlow backend.\n"
     ]
    }
   ],
   "source": [
    "import numpy as np\n",
    "import keras\n",
    "import tensorflow as tf\n",
    "from keras import backend as k\n",
    "from keras.layers.core import Dense\n",
    "from keras.optimizers import Adam\n",
    "from keras.metrics import categorical_crossentropy\n",
    "from keras.preprocessing.image import ImageDataGenerator\n",
    "from keras.models import Model\n",
    "from keras.applications import imagenet_utils\n",
    "from sklearn.metrics import confusion_matrix\n",
    "from keras.models import Sequential\n",
    "from keras.preprocessing.image import load_img\n",
    "import itertools\n",
    "import matplotlib.pyplot as plt\n",
    "import Augmentor\n",
    "%matplotlib inline"
   ]
  },
  {
   "cell_type": "code",
   "execution_count": null,
   "metadata": {
    "scrolled": true
   },
   "outputs": [],
   "source": [
    "train_path=Augmentor.Pipeline('F:/Data/Training')\n",
    "valid_path= Augmentor.Pipeline('F:/Data/Validation')\n",
    "test_path= Augmentor.Pipeline('F:/Data/Test')"
   ]
  },
  {
   "cell_type": "code",
   "execution_count": null,
   "metadata": {},
   "outputs": [],
   "source": [
    "train_path.rotate(probability=0.5, max_left_rotation=25, max_right_rotation=25)\n",
    "train_path.rotate_90(probability=0.5)\n",
    "train_path.random_distortion (probability =0.5, grid_width =4 , grid_height =4 , magnitude =5)\n",
    "train_path.flip_left_right(probability=0.5)\n",
    "train_path.flip_top_bottom(probability=0.5)\n",
    "train_path.sample(18600)"
   ]
  },
  {
   "cell_type": "code",
   "execution_count": null,
   "metadata": {},
   "outputs": [],
   "source": [
    "valid_path.rotate(probability=0.5, max_left_rotation=25, max_right_rotation=25)\n",
    "valid_path.rotate_90(probability=0.5)\n",
    "valid_path.random_distortion (probability =0.5, grid_width =4 , grid_height =4 , magnitude =5)\n",
    "valid_path.flip_left_right(probability=0.5)\n",
    "valid_path.flip_top_bottom(probability=0.5)\n",
    "valid_path.sample(4600)"
   ]
  },
  {
   "cell_type": "code",
   "execution_count": null,
   "metadata": {},
   "outputs": [],
   "source": []
  }
 ],
 "metadata": {
  "kernelspec": {
   "display_name": "Python 3",
   "language": "python",
   "name": "python3"
  },
  "language_info": {
   "codemirror_mode": {
    "name": "ipython",
    "version": 3
   },
   "file_extension": ".py",
   "mimetype": "text/x-python",
   "name": "python",
   "nbconvert_exporter": "python",
   "pygments_lexer": "ipython3",
   "version": "3.7.3"
  }
 },
 "nbformat": 4,
 "nbformat_minor": 2
}
